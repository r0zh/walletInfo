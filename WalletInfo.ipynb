{
 "cells": [
  {
   "cell_type": "code",
   "execution_count": null,
   "id": "6878dc7f-501b-4362-ad2a-0a1a321974ad",
   "metadata": {},
   "outputs": [],
   "source": [
    "pip install solana solders python-dotenv"
   ]
  },
  {
   "cell_type": "code",
   "execution_count": 58,
   "id": "dad2110f-b0ea-4032-a7b4-6fa419f62bfb",
   "metadata": {},
   "outputs": [],
   "source": [
    "from solana.rpc.api import Client\n",
    "from solders.pubkey import Pubkey\n",
    "import requests\n",
    "import os\n",
    "from dotenv import load_dotenv"
   ]
  },
  {
   "cell_type": "code",
   "execution_count": 84,
   "id": "122b86aa-bf41-4b31-b6d6-f77365f19811",
   "metadata": {},
   "outputs": [
    {
     "data": {
      "text/plain": [
       "True"
      ]
     },
     "execution_count": 84,
     "metadata": {},
     "output_type": "execute_result"
    }
   ],
   "source": [
    "load_dotenv()"
   ]
  },
  {
   "cell_type": "code",
   "execution_count": 86,
   "id": "bc98ee88-56e2-4442-a64d-aea9de5fced2",
   "metadata": {},
   "outputs": [],
   "source": [
    "# Replace with your RPC URL\n",
    "RPC_URL = \"https://api.mainnet-beta.solana.com\"\n",
    "\n",
    "wallet_public_key = Pubkey.from_string(os.getenv(\"WALLET_PUBLIC_KEY\"))\n",
    "API_KEY = os.getenv(\"COINMARKETCAP_API_KEY\")"
   ]
  },
  {
   "cell_type": "code",
   "execution_count": 87,
   "id": "26372d26-894b-48a4-a31a-611a0ed99e72",
   "metadata": {},
   "outputs": [],
   "source": [
    "# Initialize the Solana client\n",
    "client = Client(RPC_URL)"
   ]
  },
  {
   "cell_type": "code",
   "execution_count": 89,
   "id": "2d1e0c31-d14d-443c-aab9-c4c1d8d7425d",
   "metadata": {},
   "outputs": [],
   "source": [
    "# Fetch the current SOL to EUR exchange rate\n",
    "def get_sol_to_eur_rate():\n",
    "    url = \"https://pro-api.coinmarketcap.com/v1/cryptocurrency/quotes/latest\"\n",
    "    params = {\n",
    "        \"symbol\": \"SOL\",\n",
    "        \"convert\": \"EUR\"\n",
    "    }\n",
    "    headers = {\n",
    "        \"Accepts\": \"application/json\",\n",
    "        \"X-CMC_PRO_API_KEY\": API_KEY\n",
    "    }\n",
    "    response = requests.get(url, headers=headers, params=params)\n",
    "    data = response.json()\n",
    "    # Extract the SOL to EUR price\n",
    "    sol_to_eur = data[\"data\"][\"SOL\"][\"quote\"][\"EUR\"][\"price\"]\n",
    "    return sol_to_eur\n",
    "\n",
    "# Convert balance from lamports to SOL and then to EUR\n",
    "def convert_sol_to_eur(sol):\n",
    "    sol_to_eur_rate = get_sol_to_eur_rate()  # Get current SOL/EUR rate\n",
    "    eur = sol * sol_to_eur_rate\n",
    "    return eur\n"
   ]
  },
  {
   "cell_type": "code",
   "execution_count": 93,
   "id": "a4faf1af-0821-4b25-951c-e99ccf70e4f2",
   "metadata": {},
   "outputs": [
    {
     "name": "stdout",
     "output_type": "stream",
     "text": [
      "GetBalanceResp { context: RpcResponseContext { slot: 305583152, api_version: Some(\"2.0.15\") }, value: 59101092 }\n"
     ]
    }
   ],
   "source": [
    "balance = client.get_balance(wallet_public_key)\n",
    "print(balance)"
   ]
  },
  {
   "cell_type": "code",
   "execution_count": 99,
   "id": "1aaf404a-9754-439d-ad59-e020d438983b",
   "metadata": {},
   "outputs": [
    {
     "name": "stdout",
     "output_type": "stream",
     "text": [
      "Balance in SOL: 0.059101 SOL\n",
      "Balance in EUR: €13.30\n"
     ]
    }
   ],
   "source": [
    "balance_in_sol = balance.value / 1_000_000_000\n",
    "balance_in_eur = convert_sol_to_eur(balance_in_sol)\n",
    "print(f\"Balance in SOL: {balance_in_sol:.6f} SOL\")\n",
    "print(f\"Balance in EUR: €{balance_in_eur:.2f}\")"
   ]
  }
 ],
 "metadata": {
  "kernelspec": {
   "display_name": "Python 3 (ipykernel)",
   "language": "python",
   "name": "python3"
  },
  "language_info": {
   "codemirror_mode": {
    "name": "ipython",
    "version": 3
   },
   "file_extension": ".py",
   "mimetype": "text/x-python",
   "name": "python",
   "nbconvert_exporter": "python",
   "pygments_lexer": "ipython3",
   "version": "3.12.7"
  }
 },
 "nbformat": 4,
 "nbformat_minor": 5
}
